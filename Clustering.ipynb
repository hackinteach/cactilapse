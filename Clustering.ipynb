{
 "cells": [
  {
   "cell_type": "code",
   "execution_count": 114,
   "metadata": {},
   "outputs": [],
   "source": [
    "from glob import glob\n",
    "import numpy as np\n",
    "from matplotlib import pyplot as plt\n",
    "import matplotlib.image as mpimg\n",
    "from scipy import misc\n",
    "from sklearn.decomposition import PCA\n",
    "from numpy.random import RandomState\n",
    "import re\n",
    "import numpy as np\n",
    "import cv2"
   ]
  },
  {
   "cell_type": "code",
   "execution_count": 171,
   "metadata": {},
   "outputs": [],
   "source": [
    "def get_date_taken(path):\n",
    "    return Image.open(path)._getexif()[36867]\n",
    "\n",
    "def gray_scale(images):\n",
    "    imgs = []\n",
    "    for i in range(len(images)):\n",
    "        bw = cv2.cvtColor(images[i,:,:,:], cv2.COLOR_RGB2GRAY)\n",
    "        imgs.append(bw)\n",
    "    return np.array(imgs)\n",
    "\n",
    "def read_images(files: list):\n",
    "    imgs = []\n",
    "    labels = []\n",
    "    for i, f in enumerate(files):\n",
    "        img = cv2.imread(f)\n",
    "        width, height, _ = img.shape\n",
    "        lb = folder_name.match(f).groups()[0]\n",
    "        if width == 1536 and height == 2048:\n",
    "            img = cv2.rotate(img, cv2.ROTATE_90_CLOCKWISE)\n",
    "        imgs.append(img)\n",
    "        labels.append(lb)\n",
    "    imgs = np.array(imgs)\n",
    "    return imgs, labels\n",
    "\n",
    "def pre_process(files, func = None):\n",
    "    images, labels = read_images(files)\n",
    "    if func:\n",
    "        return func(images), labels\n",
    "    return images, labels\n",
    "\n",
    "def normalize(images):\n",
    "    imgs = images / 255.\n",
    "    return imgs.reshape(-1, np.product(imgs.shape[1:]))"
   ]
  },
  {
   "cell_type": "code",
   "execution_count": 172,
   "metadata": {},
   "outputs": [
    {
     "data": {
      "text/plain": [
       "(64, 9437184)"
      ]
     },
     "execution_count": 172,
     "metadata": {},
     "output_type": "execute_result"
    }
   ],
   "source": [
    "folder_name = re.compile(r\"data/classifier/(.*)/.*\\.jpeg\")\n",
    "\n",
    "files = glob(\"data/classifier/*/*.jpeg\", recursive=True)\n",
    "files\n",
    "imgs, label = pre_process(files)\n",
    "imgs = normalize(imgs)\n",
    "imgs.shape"
   ]
  },
  {
   "cell_type": "code",
   "execution_count": 82,
   "metadata": {
    "scrolled": true
   },
   "outputs": [],
   "source": [
    "# # fig, axes = plt.subplots(27, 3, figsize=(27*10, 3*5))\n",
    "\n",
    "# fig = plt.figure(figsize=(15, 100))\n",
    "# ax = []\n",
    "# count = 1\n",
    "# for i, img in enumerate(imgs):\n",
    "#     for c in range(3):\n",
    "#         ax.append(fig.add_subplot(27,3, count))\n",
    "#         count += 1\n",
    "#         plt.imshow(img[c,:,:])\n",
    "# plt.show()"
   ]
  },
  {
   "cell_type": "code",
   "execution_count": 173,
   "metadata": {},
   "outputs": [
    {
     "data": {
      "text/plain": [
       "(array([142656.73061749,  59540.29690451,  28908.68473543,  24696.12758275,\n",
       "         20948.32856587,  14235.82352866,  13253.56768037,  11401.22469702,\n",
       "         10292.72095383,   8909.51630773,   8314.03467991,   7912.88563689,\n",
       "          7573.23299722,   7078.21361442,   6526.42101815,   6444.80323743,\n",
       "          6202.94785791,   5861.95254887,   5582.54756138,   5326.15921365,\n",
       "          5213.73837872,   5049.45630191,   4846.82378975,   4748.85621242,\n",
       "          4700.07826775,   4533.47760562]),\n",
       " array([0.26497   , 0.11058989, 0.05369487, 0.04587048, 0.03890934,\n",
       "        0.02644156, 0.02461712, 0.02117659, 0.01911766, 0.0165485 ,\n",
       "        0.01544245, 0.01469736, 0.01406649, 0.01314704, 0.01212215,\n",
       "        0.01197055, 0.01152133, 0.01088797, 0.010369  , 0.00989279,\n",
       "        0.00968398, 0.00937884, 0.00900247, 0.00882051, 0.00872991,\n",
       "        0.00842046]),\n",
       " 26)"
      ]
     },
     "execution_count": 173,
     "metadata": {},
     "output_type": "execute_result"
    }
   ],
   "source": [
    "%%time\n",
    "from sklearn.decomposition import PCA\n",
    "pca = PCA(0.80)\n",
    "transformed = pca.fit_transform(imgs)\n",
    "pca.explained_variance_ ,pca.explained_variance_ratio_, pca.n_components_"
   ]
  },
  {
   "cell_type": "code",
   "execution_count": 168,
   "metadata": {},
   "outputs": [
    {
     "name": "stdout",
     "output_type": "stream",
     "text": [
      "CPU times: user 27.8 ms, sys: 5.54 ms, total: 33.3 ms\n",
      "Wall time: 31.2 ms\n"
     ]
    },
    {
     "data": {
      "text/plain": [
       "MiniBatchKMeans(batch_size=100, compute_labels=True, init='k-means++',\n",
       "                init_size=None, max_iter=100, max_no_improvement=10,\n",
       "                n_clusters=5, n_init=3, random_state=None,\n",
       "                reassignment_ratio=0.01, tol=0.0, verbose=0)"
      ]
     },
     "execution_count": 168,
     "metadata": {},
     "output_type": "execute_result"
    }
   ],
   "source": [
    "%%time\n",
    "from sklearn.cluster import MiniBatchKMeans, KMeans\n",
    "\n",
    "n_clusters = len(np.unique(labels))\n",
    "km = MiniBatchKMeans(n_clusters=n_clusters, max_iter=100)\n",
    "km.fit(transformed)\n",
    "# km.labels_"
   ]
  },
  {
   "cell_type": "code",
   "execution_count": 169,
   "metadata": {},
   "outputs": [
    {
     "data": {
      "text/plain": [
       "[(2, 'astro-var'),\n",
       " (2, 'astro-var'),\n",
       " (2, 'astro-var'),\n",
       " (2, 'astro-var'),\n",
       " (2, 'astro-var'),\n",
       " (2, 'astro-var'),\n",
       " (2, 'astro-var'),\n",
       " (2, 'astro-var'),\n",
       " (2, 'astro-var'),\n",
       " (2, 'astro-var'),\n",
       " (2, 'astro-var'),\n",
       " (2, 'astro-var'),\n",
       " (2, 'astro-var'),\n",
       " (2, 'astro-var'),\n",
       " (1, 'tlux'),\n",
       " (1, 'tlux'),\n",
       " (1, 'tlux'),\n",
       " (1, 'tlux'),\n",
       " (1, 'tlux'),\n",
       " (1, 'tlux'),\n",
       " (1, 'tlux'),\n",
       " (4, 'tlux'),\n",
       " (0, 'tlux'),\n",
       " (1, 'tlux'),\n",
       " (1, 'tlux'),\n",
       " (1, 'tlux'),\n",
       " (1, 'tlux'),\n",
       " (2, 'astro-v'),\n",
       " (2, 'astro-v'),\n",
       " (2, 'astro-v'),\n",
       " (2, 'astro-v'),\n",
       " (2, 'astro-v'),\n",
       " (2, 'astro-v'),\n",
       " (2, 'astro-v'),\n",
       " (2, 'astro-v'),\n",
       " (2, 'astro-v'),\n",
       " (2, 'astro-v'),\n",
       " (2, 'astro-v'),\n",
       " (3, 'sepia'),\n",
       " (3, 'sepia'),\n",
       " (3, 'sepia'),\n",
       " (3, 'sepia'),\n",
       " (3, 'sepia'),\n",
       " (3, 'sepia'),\n",
       " (3, 'sepia'),\n",
       " (3, 'sepia'),\n",
       " (3, 'sepia'),\n",
       " (3, 'sepia'),\n",
       " (3, 'sepia'),\n",
       " (3, 'sepia'),\n",
       " (3, 'sepia'),\n",
       " (4, 'dd'),\n",
       " (4, 'dd'),\n",
       " (4, 'dd'),\n",
       " (4, 'dd'),\n",
       " (4, 'dd'),\n",
       " (4, 'dd'),\n",
       " (4, 'dd'),\n",
       " (4, 'dd'),\n",
       " (4, 'dd'),\n",
       " (4, 'dd'),\n",
       " (4, 'dd'),\n",
       " (4, 'dd'),\n",
       " (4, 'dd')]"
      ]
     },
     "execution_count": 169,
     "metadata": {},
     "output_type": "execute_result"
    }
   ],
   "source": [
    "list(zip(km.labels_, labels))"
   ]
  },
  {
   "cell_type": "code",
   "execution_count": 104,
   "metadata": {},
   "outputs": [],
   "source": [
    "from sklearn.preprocessing import LabelEncoder\n",
    "\n",
    "enc = LabelEncoder()\n",
    "weight = enc.fit_transform(labels)"
   ]
  },
  {
   "cell_type": "code",
   "execution_count": 97,
   "metadata": {},
   "outputs": [
    {
     "data": {
      "text/plain": [
       "array(['astro-v', 'astro-var', 'dd', 'tlux'], dtype='<U9')"
      ]
     },
     "execution_count": 97,
     "metadata": {},
     "output_type": "execute_result"
    }
   ],
   "source": [
    "np.unique(labels)"
   ]
  },
  {
   "cell_type": "code",
   "execution_count": null,
   "metadata": {},
   "outputs": [],
   "source": []
  }
 ],
 "metadata": {
  "kernelspec": {
   "display_name": "cactilapse",
   "language": "python",
   "name": "cactilapse"
  },
  "language_info": {
   "codemirror_mode": {
    "name": "ipython",
    "version": 3
   },
   "file_extension": ".py",
   "mimetype": "text/x-python",
   "name": "python",
   "nbconvert_exporter": "python",
   "pygments_lexer": "ipython3",
   "version": "3.7.3"
  }
 },
 "nbformat": 4,
 "nbformat_minor": 4
}
