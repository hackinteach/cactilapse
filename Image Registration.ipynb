{
 "cells": [
  {
   "cell_type": "code",
   "execution_count": 2,
   "metadata": {},
   "outputs": [
    {
     "data": {
      "text/plain": [
       "True"
      ]
     },
     "execution_count": 2,
     "metadata": {},
     "output_type": "execute_result"
    }
   ],
   "source": [
    "import cv2 \n",
    "import numpy as np \n",
    "  \n",
    "# Open the image files. \n",
    "img1_color = cv2.imread(\"data/jpg/IMG_2628.jpg\")  # Image to be aligned. \n",
    "img2_color = cv2.imread(\"data/jpg/IMG_2722.jpg\")    # Reference image. \n",
    "  \n",
    "# Convert to grayscale. \n",
    "img1 = cv2.cvtColor(img1_color, cv2.COLOR_BGR2GRAY) \n",
    "img2 = cv2.cvtColor(img2_color, cv2.COLOR_BGR2GRAY) \n",
    "height, width = img2.shape \n",
    "  \n",
    "# Create ORB detector with 5000 features. \n",
    "orb_detector = cv2.ORB_create(5000) \n",
    "  \n",
    "# Find keypoints and descriptors. \n",
    "# The first arg is the image, second arg is the mask \n",
    "#  (which is not reqiured in this case). \n",
    "kp1, d1 = orb_detector.detectAndCompute(img1, None) \n",
    "kp2, d2 = orb_detector.detectAndCompute(img2, None) \n",
    "  \n",
    "# Match features between the two images. \n",
    "# We create a Brute Force matcher with  \n",
    "# Hamming distance as measurement mode. \n",
    "matcher = cv2.BFMatcher(cv2.NORM_HAMMING, crossCheck = True) \n",
    "  \n",
    "# Match the two sets of descriptors. \n",
    "matches = matcher.match(d1, d2) \n",
    "  \n",
    "# Sort matches on the basis of their Hamming distance. \n",
    "matches.sort(key = lambda x: x.distance) \n",
    "  \n",
    "# Take the top 90 % matches forward. \n",
    "matches = matches[:int(len(matches)*90)] \n",
    "no_of_matches = len(matches) \n",
    "  \n",
    "# Define empty matrices of shape no_of_matches * 2. \n",
    "p1 = np.zeros((no_of_matches, 2)) \n",
    "p2 = np.zeros((no_of_matches, 2)) \n",
    "  \n",
    "for i in range(len(matches)): \n",
    "  p1[i, :] = kp1[matches[i].queryIdx].pt \n",
    "  p2[i, :] = kp2[matches[i].trainIdx].pt \n",
    "  \n",
    "# Find the homography matrix. \n",
    "homography, mask = cv2.findHomography(p1, p2, cv2.RANSAC) \n",
    "  \n",
    "# Use this matrix to transform the \n",
    "# colored image wrt the reference image. \n",
    "transformed_img = cv2.warpPerspective(img1_color, \n",
    "                    homography, (width, height)) \n",
    "  \n",
    "# Save the output. \n",
    "cv2.imwrite('output.jpg', transformed_img) "
   ]
  },
  {
   "cell_type": "code",
   "execution_count": 5,
   "metadata": {},
   "outputs": [
    {
     "name": "stdout",
     "output_type": "stream",
     "text": [
      "/Users/hackinteachk./.pyenv/versions/3.7.3/bin/python\r\n"
     ]
    }
   ],
   "source": [
    "!which python"
   ]
  },
  {
   "cell_type": "code",
   "execution_count": null,
   "metadata": {},
   "outputs": [],
   "source": []
  }
 ],
 "metadata": {
  "kernelspec": {
   "display_name": "cactilapse",
   "language": "python",
   "name": "cactilapse"
  },
  "language_info": {
   "codemirror_mode": {
    "name": "ipython",
    "version": 3
   },
   "file_extension": ".py",
   "mimetype": "text/x-python",
   "name": "python",
   "nbconvert_exporter": "python",
   "pygments_lexer": "ipython3",
   "version": "3.7.3"
  }
 },
 "nbformat": 4,
 "nbformat_minor": 2
}
